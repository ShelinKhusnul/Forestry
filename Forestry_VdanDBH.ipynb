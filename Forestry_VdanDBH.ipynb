{
 "cells": [
  {
   "cell_type": "code",
   "execution_count": 1,
   "id": "4ad581fd",
   "metadata": {},
   "outputs": [],
   "source": [
    "import pandas as pd"
   ]
  },
  {
   "cell_type": "code",
   "execution_count": 2,
   "id": "15311dfb",
   "metadata": {},
   "outputs": [],
   "source": [
    "data = pd.read_csv('VdanDBH.csv')"
   ]
  },
  {
   "cell_type": "code",
   "execution_count": 3,
   "id": "408d7b12",
   "metadata": {},
   "outputs": [
    {
     "data": {
      "text/html": [
       "<div>\n",
       "<style scoped>\n",
       "    .dataframe tbody tr th:only-of-type {\n",
       "        vertical-align: middle;\n",
       "    }\n",
       "\n",
       "    .dataframe tbody tr th {\n",
       "        vertical-align: top;\n",
       "    }\n",
       "\n",
       "    .dataframe thead th {\n",
       "        text-align: right;\n",
       "    }\n",
       "</style>\n",
       "<table border=\"1\" class=\"dataframe\">\n",
       "  <thead>\n",
       "    <tr style=\"text-align: right;\">\n",
       "      <th></th>\n",
       "      <th>No Pohon</th>\n",
       "      <th>Jenis</th>\n",
       "      <th>DBH (cm)</th>\n",
       "      <th>DBH (m)</th>\n",
       "      <th>Tinggi total (m)</th>\n",
       "      <th>TBBC (m)</th>\n",
       "      <th>LBDSUj (m)</th>\n",
       "      <th>LBDSPa (m)</th>\n",
       "      <th>VolSmalian (m)</th>\n",
       "      <th>BKT model baru</th>\n",
       "      <th>BKT obs-BKT est</th>\n",
       "    </tr>\n",
       "  </thead>\n",
       "  <tbody>\n",
       "    <tr>\n",
       "      <th>0</th>\n",
       "      <td>13</td>\n",
       "      <td>Johar</td>\n",
       "      <td>10.0</td>\n",
       "      <td>0.10</td>\n",
       "      <td>7.40</td>\n",
       "      <td>2.30</td>\n",
       "      <td>0.002160</td>\n",
       "      <td>0.000200</td>\n",
       "      <td>0.008400</td>\n",
       "      <td>0.031436</td>\n",
       "      <td>-0.732787</td>\n",
       "    </tr>\n",
       "    <tr>\n",
       "      <th>1</th>\n",
       "      <td>20</td>\n",
       "      <td>Kayu Putih</td>\n",
       "      <td>3.0</td>\n",
       "      <td>0.03</td>\n",
       "      <td>3.00</td>\n",
       "      <td>0.55</td>\n",
       "      <td>0.000110</td>\n",
       "      <td>0.000500</td>\n",
       "      <td>0.000900</td>\n",
       "      <td>0.002761</td>\n",
       "      <td>-0.674018</td>\n",
       "    </tr>\n",
       "    <tr>\n",
       "      <th>2</th>\n",
       "      <td>87</td>\n",
       "      <td>Dilau</td>\n",
       "      <td>11.0</td>\n",
       "      <td>0.11</td>\n",
       "      <td>3.50</td>\n",
       "      <td>1.50</td>\n",
       "      <td>0.003433</td>\n",
       "      <td>0.005867</td>\n",
       "      <td>0.013125</td>\n",
       "      <td>0.038111</td>\n",
       "      <td>-0.655609</td>\n",
       "    </tr>\n",
       "    <tr>\n",
       "      <th>3</th>\n",
       "      <td>21</td>\n",
       "      <td>Kayu Putih</td>\n",
       "      <td>20.0</td>\n",
       "      <td>0.20</td>\n",
       "      <td>6.46</td>\n",
       "      <td>0.73</td>\n",
       "      <td>0.004820</td>\n",
       "      <td>0.010900</td>\n",
       "      <td>0.047200</td>\n",
       "      <td>0.127524</td>\n",
       "      <td>-0.629874</td>\n",
       "    </tr>\n",
       "    <tr>\n",
       "      <th>4</th>\n",
       "      <td>95</td>\n",
       "      <td>Johar</td>\n",
       "      <td>13.0</td>\n",
       "      <td>0.13</td>\n",
       "      <td>5.60</td>\n",
       "      <td>1.30</td>\n",
       "      <td>0.003367</td>\n",
       "      <td>0.004333</td>\n",
       "      <td>0.022300</td>\n",
       "      <td>0.053410</td>\n",
       "      <td>-0.582474</td>\n",
       "    </tr>\n",
       "  </tbody>\n",
       "</table>\n",
       "</div>"
      ],
      "text/plain": [
       "   No Pohon       Jenis  DBH (cm)  DBH (m)  Tinggi total (m)  TBBC (m)  \\\n",
       "0        13       Johar      10.0     0.10              7.40      2.30   \n",
       "1        20  Kayu Putih       3.0     0.03              3.00      0.55   \n",
       "2        87       Dilau      11.0     0.11              3.50      1.50   \n",
       "3        21  Kayu Putih      20.0     0.20              6.46      0.73   \n",
       "4        95       Johar      13.0     0.13              5.60      1.30   \n",
       "\n",
       "   LBDSUj (m)  LBDSPa (m)  VolSmalian (m)  BKT model baru  BKT obs-BKT est  \n",
       "0    0.002160    0.000200        0.008400        0.031436        -0.732787  \n",
       "1    0.000110    0.000500        0.000900        0.002761        -0.674018  \n",
       "2    0.003433    0.005867        0.013125        0.038111        -0.655609  \n",
       "3    0.004820    0.010900        0.047200        0.127524        -0.629874  \n",
       "4    0.003367    0.004333        0.022300        0.053410        -0.582474  "
      ]
     },
     "execution_count": 3,
     "metadata": {},
     "output_type": "execute_result"
    }
   ],
   "source": [
    "data.head()"
   ]
  },
  {
   "cell_type": "code",
   "execution_count": 4,
   "id": "5453c8b1",
   "metadata": {},
   "outputs": [
    {
     "data": {
      "text/plain": [
       "(178, 11)"
      ]
     },
     "execution_count": 4,
     "metadata": {},
     "output_type": "execute_result"
    }
   ],
   "source": [
    "data.shape"
   ]
  },
  {
   "cell_type": "code",
   "execution_count": 5,
   "id": "76255ee0",
   "metadata": {},
   "outputs": [
    {
     "data": {
      "text/plain": [
       "No Pohon            178\n",
       "Jenis                43\n",
       "DBH (cm)             32\n",
       "DBH (m)              32\n",
       "Tinggi total (m)     64\n",
       "TBBC (m)             67\n",
       "LBDSUj (m)          140\n",
       "LBDSPa (m)          155\n",
       "VolSmalian (m)      167\n",
       "BKT model baru       32\n",
       "BKT obs-BKT est     177\n",
       "dtype: int64"
      ]
     },
     "execution_count": 5,
     "metadata": {},
     "output_type": "execute_result"
    }
   ],
   "source": [
    "unique_values =  data.nunique()\n",
    "unique_values"
   ]
  },
  {
   "cell_type": "code",
   "execution_count": 6,
   "id": "e848c034",
   "metadata": {},
   "outputs": [
    {
     "name": "stdout",
     "output_type": "stream",
     "text": [
      "<class 'pandas.core.frame.DataFrame'>\n",
      "RangeIndex: 178 entries, 0 to 177\n",
      "Data columns (total 11 columns):\n",
      " #   Column            Non-Null Count  Dtype  \n",
      "---  ------            --------------  -----  \n",
      " 0   No Pohon          178 non-null    int64  \n",
      " 1   Jenis             178 non-null    object \n",
      " 2   DBH (cm)          178 non-null    float64\n",
      " 3   DBH (m)           178 non-null    float64\n",
      " 4   Tinggi total (m)  178 non-null    float64\n",
      " 5   TBBC (m)          178 non-null    float64\n",
      " 6   LBDSUj (m)        178 non-null    float64\n",
      " 7   LBDSPa (m)        178 non-null    float64\n",
      " 8   VolSmalian (m)    178 non-null    float64\n",
      " 9   BKT model baru    178 non-null    float64\n",
      " 10  BKT obs-BKT est   178 non-null    float64\n",
      "dtypes: float64(9), int64(1), object(1)\n",
      "memory usage: 15.4+ KB\n"
     ]
    }
   ],
   "source": [
    "data.info()"
   ]
  },
  {
   "cell_type": "code",
   "execution_count": 7,
   "id": "217dff4d",
   "metadata": {},
   "outputs": [
    {
     "data": {
      "text/plain": [
       "No Pohon            0\n",
       "Jenis               0\n",
       "DBH (cm)            0\n",
       "DBH (m)             0\n",
       "Tinggi total (m)    0\n",
       "TBBC (m)            0\n",
       "LBDSUj (m)          0\n",
       "LBDSPa (m)          0\n",
       "VolSmalian (m)      0\n",
       "BKT model baru      0\n",
       "BKT obs-BKT est     0\n",
       "dtype: int64"
      ]
     },
     "execution_count": 7,
     "metadata": {},
     "output_type": "execute_result"
    }
   ],
   "source": [
    "data.isna().sum()"
   ]
  },
  {
   "cell_type": "code",
   "execution_count": 8,
   "id": "cc84eb29",
   "metadata": {},
   "outputs": [],
   "source": [
    "data.rename(columns={\"VolSmalian (m)\":\"VolSmalian\",\n",
    "                    \"DBH (m)\":\"DBH\", \"Tinggi total (m)\":\"Tinggi Total\"} , inplace=True)"
   ]
  },
  {
   "cell_type": "code",
   "execution_count": 9,
   "id": "8a168d52",
   "metadata": {},
   "outputs": [
    {
     "data": {
      "image/png": "[encoded data removed]",
      "text/plain": [
       "<Figure size 1000x600 with 1 Axes>"
      ]
     },
     "metadata": {},
     "output_type": "display_data"
    }
   ],
   "source": [
    "import seaborn as sns\n",
    "import matplotlib.pyplot as plt\n",
    "# Distribusi Categori 10 Teratas\n",
    "category_distribution = data['Jenis'].value_counts()\n",
    "\n",
    "\n",
    "plt.figure(figsize=(10, 6))\n",
    "sns.countplot(data=data, y='Jenis', order=data['Jenis'].value_counts().index[:10], palette='viridis')\n",
    "plt.xlabel('Count')\n",
    "plt.ylabel('Jenis')\n",
    "plt.title('Distribusi Jenis')\n",
    "plt.show()\n"
   ]
  },
  {
   "cell_type": "code",
   "execution_count": 10,
   "id": "4da1a251",
   "metadata": {
    "scrolled": true
   },
   "outputs": [
    {
     "name": "stdout",
     "output_type": "stream",
     "text": [
      "Angsana                  19\n",
      "Johar                    16\n",
      "Akasia                   16\n",
      "Acacia auriculiformis    15\n",
      "Saga                     13\n",
      "Akasia mangium            9\n",
      "Kayu Putih                9\n",
      "Merbau                    9\n",
      "Dilau                     8\n",
      "Laban                     6\n",
      "Sengon                    5\n",
      "Mahoni                    4\n",
      "Bambang Lanang            4\n",
      "Bambang lanang            4\n",
      "Tui                       3\n",
      "Simpur                    3\n",
      "Cihu Putih                3\n",
      "Nangka                    3\n",
      "Seru                      2\n",
      "Petai                     2\n",
      "Mahang                    2\n",
      "Lamtoro                   2\n",
      "Meranti Merah             1\n",
      "Trembesi                  1\n",
      "Jambu hutan               1\n",
      "Medang                    1\n",
      "Rukam                     1\n",
      "Langas                    1\n",
      "Alpukat                   1\n",
      "Dilau                     1\n",
      "Bahar                     1\n",
      "Kenidai                   1\n",
      "Waru                      1\n",
      "Cemahe                    1\n",
      "Cihu                      1\n",
      "Kandis                    1\n",
      "Kayu manis                1\n",
      "Bayur                     1\n",
      "Pakel                     1\n",
      "Gamal                     1\n",
      "Gelai                     1\n",
      "Durian                    1\n",
      "Mampat                    1\n",
      "Name: Jenis, dtype: int64\n"
     ]
    }
   ],
   "source": [
    "print(category_distribution)"
   ]
  },
  {
   "cell_type": "markdown",
   "id": "2d5d78ad",
   "metadata": {},
   "source": [
    "# Analyze"
   ]
  },
  {
   "cell_type": "code",
   "execution_count": 11,
   "id": "56bb29d4",
   "metadata": {},
   "outputs": [
    {
     "name": "stdout",
     "output_type": "stream",
     "text": [
      "<class 'pandas.core.frame.DataFrame'>\n",
      "RangeIndex: 178 entries, 0 to 177\n",
      "Data columns (total 11 columns):\n",
      " #   Column           Non-Null Count  Dtype  \n",
      "---  ------           --------------  -----  \n",
      " 0   No Pohon         178 non-null    int64  \n",
      " 1   Jenis            178 non-null    object \n",
      " 2   DBH (cm)         178 non-null    float64\n",
      " 3   DBH              178 non-null    float64\n",
      " 4   Tinggi Total     178 non-null    float64\n",
      " 5   TBBC (m)         178 non-null    float64\n",
      " 6   LBDSUj (m)       178 non-null    float64\n",
      " 7   LBDSPa (m)       178 non-null    float64\n",
      " 8   VolSmalian       178 non-null    float64\n",
      " 9   BKT model baru   178 non-null    float64\n",
      " 10  BKT obs-BKT est  178 non-null    float64\n",
      "dtypes: float64(9), int64(1), object(1)\n",
      "memory usage: 15.4+ KB\n"
     ]
    }
   ],
   "source": [
    "data.info()"
   ]
  },
  {
   "cell_type": "code",
   "execution_count": 12,
   "id": "cd8744c5",
   "metadata": {},
   "outputs": [
    {
     "data": {
      "text/html": [
       "<div>\n",
       "<style scoped>\n",
       "    .dataframe tbody tr th:only-of-type {\n",
       "        vertical-align: middle;\n",
       "    }\n",
       "\n",
       "    .dataframe tbody tr th {\n",
       "        vertical-align: top;\n",
       "    }\n",
       "\n",
       "    .dataframe thead th {\n",
       "        text-align: right;\n",
       "    }\n",
       "</style>\n",
       "<table border=\"1\" class=\"dataframe\">\n",
       "  <thead>\n",
       "    <tr style=\"text-align: right;\">\n",
       "      <th></th>\n",
       "      <th>DBH</th>\n",
       "      <th>VolSmalian</th>\n",
       "    </tr>\n",
       "  </thead>\n",
       "  <tbody>\n",
       "    <tr>\n",
       "      <th>DBH</th>\n",
       "      <td>1.00000</td>\n",
       "      <td>0.87636</td>\n",
       "    </tr>\n",
       "    <tr>\n",
       "      <th>VolSmalian</th>\n",
       "      <td>0.87636</td>\n",
       "      <td>1.00000</td>\n",
       "    </tr>\n",
       "  </tbody>\n",
       "</table>\n",
       "</div>"
      ],
      "text/plain": [
       "                DBH  VolSmalian\n",
       "DBH         1.00000     0.87636\n",
       "VolSmalian  0.87636     1.00000"
      ]
     },
     "execution_count": 12,
     "metadata": {},
     "output_type": "execute_result"
    }
   ],
   "source": [
    "data[['DBH', 'VolSmalian']].corr()"
   ]
  },
  {
   "cell_type": "code",
   "execution_count": 13,
   "id": "2fcccde7",
   "metadata": {
    "scrolled": true
   },
   "outputs": [
    {
     "data": {
      "image/png": "[encoded data removed]",
      "text/plain": [
       "<Figure size 640x480 with 1 Axes>"
      ]
     },
     "metadata": {},
     "output_type": "display_data"
    }
   ],
   "source": [
    "import matplotlib.pyplot as plt\n",
    "\n",
    "x = data[\"DBH\"]\n",
    "y = data[\"VolSmalian\"]\n",
    "\n",
    "# Plot the data\n",
    "plt.scatter(x, y, marker=\".\", color = \"k\")\n",
    "\n",
    "# Add a legend and labels\n",
    "\n",
    "plt.xlabel(\"DBH (m)\")\n",
    "plt.ylabel(\"Volume Smallian (m3)\")\n",
    "\n",
    "# Add a title and adjust the margins\n",
    "plt.title(\"Hubungan DBH dan Volume\")\n",
    "\n",
    "# Show the plot\n",
    "plt.show()"
   ]
  },
  {
   "cell_type": "code",
   "execution_count": 14,
   "id": "2101c33d",
   "metadata": {},
   "outputs": [],
   "source": [
    "import numpy as np\n",
    "def print_coef_std_err(results):\n",
    "    \"\"\"\n",
    "    Function to combine estimated coefficients and standard error in one DataFrame\n",
    "    :param results: <statsmodels RegressionResultsWrapper> OLS regression results from \n",
    "    :return df: <pandas DataFrame> \n",
    "    \"\"\"\n",
    "    coef = results.params\n",
    "    std_err = results.bse\n",
    "    \n",
    "    df = pd.DataFrame(data = np.transpose([coef, std_err]), \n",
    "                      index = coef.index, \n",
    "                      columns=[\"coef\",\"std err\"])\n",
    "    return df"
   ]
  },
  {
   "cell_type": "code",
   "execution_count": 15,
   "id": "0b1df9ea",
   "metadata": {},
   "outputs": [
    {
     "name": "stdout",
     "output_type": "stream",
     "text": [
      "                            OLS Regression Results                            \n",
      "==============================================================================\n",
      "Dep. Variable:             VolSmalian   R-squared:                       0.768\n",
      "Model:                            OLS   Adj. R-squared:                  0.767\n",
      "Method:                 Least Squares   F-statistic:                     582.6\n",
      "Date:                Wed, 31 Jan 2024   Prob (F-statistic):           9.93e-58\n",
      "Time:                        08:42:59   Log-Likelihood:                 325.30\n",
      "No. Observations:                 178   AIC:                            -646.6\n",
      "Df Residuals:                     176   BIC:                            -640.2\n",
      "Df Model:                           1                                         \n",
      "Covariance Type:            nonrobust                                         \n",
      "==============================================================================\n",
      "                 coef    std err          t      P>|t|      [0.025      0.975]\n",
      "------------------------------------------------------------------------------\n",
      "Intercept     -0.0764      0.007    -10.614      0.000      -0.091      -0.062\n",
      "DBH            1.1353      0.047     24.138      0.000       1.042       1.228\n",
      "==============================================================================\n",
      "Omnibus:                        8.300   Durbin-Watson:                   0.919\n",
      "Prob(Omnibus):                  0.016   Jarque-Bera (JB):                8.223\n",
      "Skew:                           0.455   Prob(JB):                       0.0164\n",
      "Kurtosis:                       3.531   Cond. No.                         16.3\n",
      "==============================================================================\n",
      "\n",
      "Notes:\n",
      "[1] Standard Errors assume that the covariance matrix of the errors is correctly specified.\n"
     ]
    }
   ],
   "source": [
    "# Melakukan FIt Linear Regression\n",
    "# Create OLS model object\n",
    "import statsmodels.formula.api as smf\n",
    "model = smf.ols('VolSmalian~DBH',data)\n",
    "\n",
    "# Fit the model\n",
    "results = model.fit()\n",
    "\n",
    "# Extract the results (Coefficient and Standard Error) to DataFrame\n",
    "results_volsmalian_dbh = print_coef_std_err(results)\n",
    "print(results.summary())"
   ]
  },
  {
   "cell_type": "code",
   "execution_count": 16,
   "id": "545450a9",
   "metadata": {},
   "outputs": [
    {
     "data": {
      "image/png": "[encoded data removed]",
      "text/plain": [
       "<Figure size 640x480 with 1 Axes>"
      ]
     },
     "metadata": {},
     "output_type": "display_data"
    }
   ],
   "source": [
    "predictor = \"DBH\"\n",
    "outcome = \"VolSmalian\"\n",
    "data = data.copy()\n",
    "results_ = results_volsmalian_dbh.copy()\n",
    "\n",
    "# Plot the data\n",
    "plt.scatter(data[predictor], data[outcome], marker=\".\", label=\"Data\", color = \"k\")\n",
    "\n",
    "# Calculate the fitted values\n",
    "a_hat = results_.loc[\"Intercept\"][\"coef\"]\n",
    "b_hat = results_.loc[predictor][\"coef\"]\n",
    "\n",
    "x_domain = np.linspace(np.min(data[predictor]), np.max(data[predictor]), 10000)\n",
    "\n",
    "fitted_values = a_hat + b_hat * x_domain\n",
    "\n",
    "# Plot the fitted line\n",
    "plt.plot(x_domain, fitted_values, label=\"Fitted line\")\n",
    "\n",
    "# Add a legend and labels\n",
    "plt.legend()\n",
    "plt.xlabel(f\"{predictor}\")\n",
    "plt.ylabel(f\"{outcome}\")\n",
    "\n",
    "# Add a title and adjust the margins\n",
    "plt.title(\"Data and fitted regression line\")\n",
    "\n",
    "# Show the plot\n",
    "plt.show()"
   ]
  },
  {
   "cell_type": "code",
   "execution_count": 17,
   "id": "51354c70",
   "metadata": {},
   "outputs": [
    {
     "data": {
      "text/html": [
       "<div>\n",
       "<style scoped>\n",
       "    .dataframe tbody tr th:only-of-type {\n",
       "        vertical-align: middle;\n",
       "    }\n",
       "\n",
       "    .dataframe tbody tr th {\n",
       "        vertical-align: top;\n",
       "    }\n",
       "\n",
       "    .dataframe thead th {\n",
       "        text-align: right;\n",
       "    }\n",
       "</style>\n",
       "<table border=\"1\" class=\"dataframe\">\n",
       "  <thead>\n",
       "    <tr style=\"text-align: right;\">\n",
       "      <th></th>\n",
       "      <th>coef</th>\n",
       "      <th>std err</th>\n",
       "    </tr>\n",
       "  </thead>\n",
       "  <tbody>\n",
       "    <tr>\n",
       "      <th>Intercept</th>\n",
       "      <td>-0.076398</td>\n",
       "      <td>0.007198</td>\n",
       "    </tr>\n",
       "    <tr>\n",
       "      <th>DBH</th>\n",
       "      <td>1.135310</td>\n",
       "      <td>0.047034</td>\n",
       "    </tr>\n",
       "  </tbody>\n",
       "</table>\n",
       "</div>"
      ],
      "text/plain": [
       "               coef   std err\n",
       "Intercept -0.076398  0.007198\n",
       "DBH        1.135310  0.047034"
      ]
     },
     "execution_count": 17,
     "metadata": {},
     "output_type": "execute_result"
    }
   ],
   "source": [
    "results_volsmalian_dbh"
   ]
  },
  {
   "cell_type": "markdown",
   "id": "197c8191",
   "metadata": {},
   "source": [
    "$$y = -0.076398 + 1.135310 x$$\n",
    "> Artinya: rata rata volume pohon jika memiliki diameter =1 adalah 1.058 tapi ini tdk meaningful. Maka lakukan langkah centering"
   ]
  },
  {
   "cell_type": "code",
   "execution_count": 18,
   "id": "80b3cb82",
   "metadata": {},
   "outputs": [
    {
     "data": {
      "text/plain": [
       "count    178.000000\n",
       "mean       0.139753\n",
       "std        0.062537\n",
       "min        0.030000\n",
       "25%        0.100000\n",
       "50%        0.130000\n",
       "75%        0.180000\n",
       "max        0.360000\n",
       "Name: DBH, dtype: float64"
      ]
     },
     "execution_count": 18,
     "metadata": {},
     "output_type": "execute_result"
    }
   ],
   "source": [
    "data['DBH'].describe()"
   ]
  },
  {
   "cell_type": "code",
   "execution_count": 19,
   "id": "f59c6549",
   "metadata": {},
   "outputs": [
    {
     "data": {
      "text/plain": [
       "count    178.000000\n",
       "mean       0.082265\n",
       "std        0.081016\n",
       "min        0.000900\n",
       "25%        0.024825\n",
       "50%        0.054462\n",
       "75%        0.108425\n",
       "max        0.442900\n",
       "Name: VolSmalian, dtype: float64"
      ]
     },
     "execution_count": 19,
     "metadata": {},
     "output_type": "execute_result"
    }
   ],
   "source": [
    "data['VolSmalian'].describe()"
   ]
  },
  {
   "cell_type": "markdown",
   "id": "87e9c76d",
   "metadata": {},
   "source": [
    "$$y = 0.0822+ 1.135310 (x-0.139)$$\n",
    "> Artinya: rata rata volume pohon jika memiliki diameter =1 adalah 1.059 tapi ini tdk meaningful. Maka lakukan langkah centering"
   ]
  },
  {
   "cell_type": "code",
   "execution_count": 20,
   "id": "5a003d7b",
   "metadata": {},
   "outputs": [
    {
     "data": {
      "image/png": "[encoded data removed]",
      "text/plain": [
       "<Figure size 640x480 with 1 Axes>"
      ]
     },
     "metadata": {},
     "output_type": "display_data"
    }
   ],
   "source": [
    "predictor = \"DBH\"\n",
    "outcome = \"VolSmalian\"\n",
    "data = data.copy()\n",
    "results_ = results_volsmalian_dbh.copy()\n",
    "\n",
    "# Plot the data\n",
    "plt.scatter(data[predictor], data[outcome], marker=\".\", label=\"Data\", color = \"k\")\n",
    "\n",
    "# Calculate the fitted values\n",
    "a_hat = results_.loc[\"Intercept\"][\"coef\"]\n",
    "b_hat = results_.loc[predictor][\"coef\"]\n",
    "\n",
    "fitted_values = a_hat + b_hat * data[predictor]\n",
    "\n",
    "# Plot the fitted line\n",
    "plt.plot(data[predictor], fitted_values, label=\"Fitted line\")\n",
    "plt.axvline(data[predictor].mean(), linestyle = \"-.\", alpha = 0.5, label = f\"average {predictor}\", c = \"r\")\n",
    "plt.axhline(data[outcome].mean(), linestyle = \"--\", alpha = 0.5, label = f\"average {outcome}\", c = \"g\")\n",
    "\n",
    "# Add a legend and labels\n",
    "plt.legend()\n",
    "plt.xlabel(f\"{predictor}\")\n",
    "plt.ylabel(f\"{outcome}\")\n",
    "\n",
    "# Add a title and adjust the margins\n",
    "plt.title(\"Data and fitted regression line\")\n",
    "\n",
    "# Show the plot\n",
    "plt.show()"
   ]
  },
  {
   "cell_type": "markdown",
   "id": "eb91b5ac",
   "metadata": {},
   "source": [
    "## Log Transformation"
   ]
  },
  {
   "cell_type": "code",
   "execution_count": 23,
   "id": "70e2691b",
   "metadata": {},
   "outputs": [
    {
     "data": {
      "text/html": [
       "<div>\n",
       "<style scoped>\n",
       "    .dataframe tbody tr th:only-of-type {\n",
       "        vertical-align: middle;\n",
       "    }\n",
       "\n",
       "    .dataframe tbody tr th {\n",
       "        vertical-align: top;\n",
       "    }\n",
       "\n",
       "    .dataframe thead th {\n",
       "        text-align: right;\n",
       "    }\n",
       "</style>\n",
       "<table border=\"1\" class=\"dataframe\">\n",
       "  <thead>\n",
       "    <tr style=\"text-align: right;\">\n",
       "      <th></th>\n",
       "      <th>No Pohon</th>\n",
       "      <th>Jenis</th>\n",
       "      <th>DBH (cm)</th>\n",
       "      <th>DBH</th>\n",
       "      <th>Tinggi Total</th>\n",
       "      <th>TBBC (m)</th>\n",
       "      <th>LBDSUj (m)</th>\n",
       "      <th>LBDSPa (m)</th>\n",
       "      <th>VolSmalian</th>\n",
       "      <th>BKT model baru</th>\n",
       "      <th>BKT obs-BKT est</th>\n",
       "      <th>LogDBH</th>\n",
       "    </tr>\n",
       "  </thead>\n",
       "  <tbody>\n",
       "    <tr>\n",
       "      <th>0</th>\n",
       "      <td>13</td>\n",
       "      <td>Johar</td>\n",
       "      <td>10.0</td>\n",
       "      <td>0.10</td>\n",
       "      <td>7.4</td>\n",
       "      <td>2.30</td>\n",
       "      <td>0.002160</td>\n",
       "      <td>0.000200</td>\n",
       "      <td>0.008400</td>\n",
       "      <td>0.031436</td>\n",
       "      <td>-0.732787</td>\n",
       "      <td>-2.302585</td>\n",
       "    </tr>\n",
       "    <tr>\n",
       "      <th>1</th>\n",
       "      <td>20</td>\n",
       "      <td>Kayu Putih</td>\n",
       "      <td>3.0</td>\n",
       "      <td>0.03</td>\n",
       "      <td>3.0</td>\n",
       "      <td>0.55</td>\n",
       "      <td>0.000110</td>\n",
       "      <td>0.000500</td>\n",
       "      <td>0.000900</td>\n",
       "      <td>0.002761</td>\n",
       "      <td>-0.674018</td>\n",
       "      <td>-3.506558</td>\n",
       "    </tr>\n",
       "    <tr>\n",
       "      <th>2</th>\n",
       "      <td>87</td>\n",
       "      <td>Dilau</td>\n",
       "      <td>11.0</td>\n",
       "      <td>0.11</td>\n",
       "      <td>3.5</td>\n",
       "      <td>1.50</td>\n",
       "      <td>0.003433</td>\n",
       "      <td>0.005867</td>\n",
       "      <td>0.013125</td>\n",
       "      <td>0.038111</td>\n",
       "      <td>-0.655609</td>\n",
       "      <td>-2.207275</td>\n",
       "    </tr>\n",
       "  </tbody>\n",
       "</table>\n",
       "</div>"
      ],
      "text/plain": [
       "   No Pohon       Jenis  DBH (cm)   DBH  Tinggi Total  TBBC (m)  LBDSUj (m)  \\\n",
       "0        13       Johar      10.0  0.10           7.4      2.30    0.002160   \n",
       "1        20  Kayu Putih       3.0  0.03           3.0      0.55    0.000110   \n",
       "2        87       Dilau      11.0  0.11           3.5      1.50    0.003433   \n",
       "\n",
       "   LBDSPa (m)  VolSmalian  BKT model baru  BKT obs-BKT est    LogDBH  \n",
       "0    0.000200    0.008400        0.031436        -0.732787 -2.302585  \n",
       "1    0.000500    0.000900        0.002761        -0.674018 -3.506558  \n",
       "2    0.005867    0.013125        0.038111        -0.655609 -2.207275  "
      ]
     },
     "execution_count": 23,
     "metadata": {},
     "output_type": "execute_result"
    }
   ],
   "source": [
    "# create new column logweight as the transformation of weight column\n",
    "data['LogDBH'] = np.log(data[\"DBH\"])\n",
    "\n",
    "data.head(3)"
   ]
  },
  {
   "cell_type": "code",
   "execution_count": 24,
   "id": "851e011a",
   "metadata": {},
   "outputs": [],
   "source": [
    "# Create OLS model object\n",
    "model = smf.ols(\"VolSmalian ~ LogDBH\", data)\n",
    "\n",
    "# Fit the model\n",
    "model_logtransform = model.fit()\n",
    "\n",
    "# Extract the results (Coefficient and Standard Error) to DataFrame\n",
    "results_dbh_log = print_coef_std_err(model_logtransform)"
   ]
  },
  {
   "cell_type": "code",
   "execution_count": 25,
   "id": "c0ec3a00",
   "metadata": {},
   "outputs": [
    {
     "data": {
      "image/png": "[encoded data removed]",
      "text/plain": [
       "<Figure size 640x480 with 1 Axes>"
      ]
     },
     "metadata": {},
     "output_type": "display_data"
    }
   ],
   "source": [
    "predictor = \"LogDBH\"\n",
    "outcome = \"VolSmalian\"\n",
    "data = data.copy()\n",
    "results_ = results_dbh_log.copy()\n",
    "\n",
    "# Plot the data\n",
    "plt.scatter(data[predictor], data[outcome], color = \"k\", marker=\".\")\n",
    "\n",
    "# Calculate the fitted values\n",
    "a_hat = results_.loc[\"Intercept\"][\"coef\"]\n",
    "b_hat = results_.loc[predictor][\"coef\"]\n",
    "\n",
    "x_domain = np.linspace(np.min(data[predictor]), np.max(data[predictor]), 10000)\n",
    "\n",
    "fitted_values = a_hat + b_hat * x_domain\n",
    "\n",
    "# Plot the fitted line\n",
    "plt.plot(x_domain, fitted_values, label=\"Fitted line\", color = \"b\")\n",
    "\n",
    "# Add a legend and labels\n",
    "# plt.legend()\n",
    "plt.ylabel(outcome)\n",
    "plt.xlabel(predictor)\n",
    "\n",
    "# Add a title and adjust the margins\n",
    "plt.title(\"Data and fitted regression line\")\n",
    "\n",
    "# Show the plot\n",
    "plt.show()"
   ]
  },
  {
   "cell_type": "code",
   "execution_count": 26,
   "id": "cd69c195",
   "metadata": {},
   "outputs": [
    {
     "data": {
      "text/plain": [
       "0.5901798509822116"
      ]
     },
     "execution_count": 26,
     "metadata": {},
     "output_type": "execute_result"
    }
   ],
   "source": [
    "model_logtransform.rsquared"
   ]
  },
  {
   "cell_type": "code",
   "execution_count": 28,
   "id": "24d6bc5a",
   "metadata": {},
   "outputs": [
    {
     "data": {
      "text/html": [
       "<div>\n",
       "<style scoped>\n",
       "    .dataframe tbody tr th:only-of-type {\n",
       "        vertical-align: middle;\n",
       "    }\n",
       "\n",
       "    .dataframe tbody tr th {\n",
       "        vertical-align: top;\n",
       "    }\n",
       "\n",
       "    .dataframe thead th {\n",
       "        text-align: right;\n",
       "    }\n",
       "</style>\n",
       "<table border=\"1\" class=\"dataframe\">\n",
       "  <thead>\n",
       "    <tr style=\"text-align: right;\">\n",
       "      <th></th>\n",
       "      <th>coef</th>\n",
       "      <th>std err</th>\n",
       "    </tr>\n",
       "  </thead>\n",
       "  <tbody>\n",
       "    <tr>\n",
       "      <th>Intercept</th>\n",
       "      <td>0.346339</td>\n",
       "      <td>0.017039</td>\n",
       "    </tr>\n",
       "    <tr>\n",
       "      <th>LogDBH</th>\n",
       "      <td>0.127190</td>\n",
       "      <td>0.007989</td>\n",
       "    </tr>\n",
       "  </tbody>\n",
       "</table>\n",
       "</div>"
      ],
      "text/plain": [
       "               coef   std err\n",
       "Intercept  0.346339  0.017039\n",
       "LogDBH     0.127190  0.007989"
      ]
     },
     "execution_count": 28,
     "metadata": {},
     "output_type": "execute_result"
    }
   ],
   "source": [
    "results_dbh_log"
   ]
  },
  {
   "cell_type": "code",
   "execution_count": 31,
   "id": "f6db183a",
   "metadata": {},
   "outputs": [
    {
     "name": "stdout",
     "output_type": "stream",
     "text": [
      "                            OLS Regression Results                            \n",
      "==============================================================================\n",
      "Dep. Variable:             VolSmalian   R-squared:                       0.590\n",
      "Model:                            OLS   Adj. R-squared:                  0.588\n",
      "Method:                 Least Squares   F-statistic:                     253.5\n",
      "Date:                Wed, 31 Jan 2024   Prob (F-statistic):           6.30e-36\n",
      "Time:                        08:56:16   Log-Likelihood:                 274.65\n",
      "No. Observations:                 178   AIC:                            -545.3\n",
      "Df Residuals:                     176   BIC:                            -538.9\n",
      "Df Model:                           1                                         \n",
      "Covariance Type:            nonrobust                                         \n",
      "==============================================================================\n",
      "                 coef    std err          t      P>|t|      [0.025      0.975]\n",
      "------------------------------------------------------------------------------\n",
      "Intercept      0.3463      0.017     20.326      0.000       0.313       0.380\n",
      "LogDBH         0.1272      0.008     15.920      0.000       0.111       0.143\n",
      "==============================================================================\n",
      "Omnibus:                       47.677   Durbin-Watson:                   1.300\n",
      "Prob(Omnibus):                  0.000   Jarque-Bera (JB):               85.764\n",
      "Skew:                           1.321   Prob(JB):                     2.38e-19\n",
      "Kurtosis:                       5.141   Cond. No.                         11.3\n",
      "==============================================================================\n",
      "\n",
      "Notes:\n",
      "[1] Standard Errors assume that the covariance matrix of the errors is correctly specified.\n"
     ]
    }
   ],
   "source": [
    "print(model_logtransform.summary())"
   ]
  }
 ],
 "metadata": {
  "kernelspec": {
   "display_name": "Python 3 (ipykernel)",
   "language": "python",
   "name": "python3"
  },
  "language_info": {
   "codemirror_mode": {
    "name": "ipython",
    "version": 3
   },
   "file_extension": ".py",
   "mimetype": "text/x-python",
   "name": "python",
   "nbconvert_exporter": "python",
   "pygments_lexer": "ipython3",
   "version": "3.11.3"
  }
 },
 "nbformat": 4,
 "nbformat_minor": 5
}
